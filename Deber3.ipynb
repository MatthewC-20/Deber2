{
 "cells": [
  {
   "cell_type": "markdown",
   "id": "ddd9e820",
   "metadata": {},
   "source": [
    "# 📊 Métodos Numéricos\n",
    "\n",
    "---\n",
    "\n",
    "## 👨‍🏫 Profesor: Jonathan Zea  \n",
    "## 👤 Estudiante: Matthew Cedeño  \n",
    "## 📅 Fecha: 16 de mayo de 2025  \n",
    "---\n",
    "\n",
    "✨ ¡Vamos a aprender y a resolver problemas con precisión! ✨\n"
   ]
  },
  {
   "cell_type": "markdown",
   "id": "1049a4e7",
   "metadata": {},
   "source": [
    "####  Utilice aritmética de corte de tres dígitos para calcular las siguientes sumas. Para cada parte, ¿qué método es más preciso y por qué?\n",
    "\n",
    "**a**\n",
    "\n",
    "Suma de la serie:\n",
    "\n",
    "$$\n",
    "\\sum_{i=1}^{10} \\frac{1}{i^2}\n",
    "$$\n",
    "\n",
    "Primero sumando en orden ascendente:\n",
    "\n",
    "$$\n",
    "\\frac{1}{1} + \\frac{1}{4} + \\cdots + \\frac{1}{100}\n",
    "$$\n",
    "\n",
    "Luego sumando en orden descendente:\n",
    "\n",
    "$$\n",
    "\\frac{1}{100} + \\frac{1}{81} + \\cdots + \\frac{1}{1}\n",
    "$$\n",
    "\n",
    "---\n",
    "\n",
    "**b.**\n",
    "\n",
    "Suma de la serie:\n",
    "\n",
    "$$\n",
    "\\sum_{i=1}^{10} \\frac{1}{i^3}\n",
    "$$\n",
    "\n",
    "Primero sumando en orden ascendente:\n",
    "\n",
    "$$\n",
    "\\frac{1}{1} + \\frac{1}{8} + \\frac{1}{27} + \\cdots + \\frac{1}{1000}\n",
    "$$\n",
    "\n",
    "Luego sumando en orden descendente:\n",
    "\n",
    "$$\n",
    "\\frac{1}{1000} + \\frac{1}{729} + \\cdots + \\frac{1}{1}\n",
    "$$\n"
   ]
  },
  {
   "cell_type": "markdown",
   "id": "af4935b5",
   "metadata": {},
   "source": [
    "## Psudocodigo \n"
   ]
  },
  {
   "cell_type": "code",
   "execution_count": null,
   "id": "9db5a533",
   "metadata": {},
   "outputs": [
    {
     "name": "stdout",
     "output_type": "stream",
     "text": [
      "Parte a:\n",
      "  Suma de mayor a menor: 1.53\n",
      "  Suma de menor a mayor: 1.54\n"
     ]
    }
   ],
   "source": [
    "import math\n",
    "\n",
    "def truncar_significativas(x, cifras=3):\n",
    "    if x == 0:\n",
    "        return 0.0\n",
    "    else:\n",
    "        orden = int(math.floor(math.log10(abs(x))))\n",
    "        factor = 10**(cifras - 1 - orden)\n",
    "        return math.trunc(x * factor) / factor\n",
    "\n",
    "\n",
    "# De mayor a menor: i = 1 a 10\n",
    "suma_mayor_a_menor = 0.0\n",
    "for i in range(1, 11):\n",
    "    term = 1 / (i**2)\n",
    "    suma_mayor_a_menor = truncar_significativas(suma_mayor_a_menor + truncar_significativas(term))\n",
    "\n",
    "# De menor a mayor: i = 10 a 1\n",
    "suma_menor_a_mayor = 0.0\n",
    "for i in range(10, 0, -1):\n",
    "    term = 1 / (i**2)\n",
    "    suma_menor_a_mayor = truncar_significativas(suma_menor_a_mayor + truncar_significativas(term))\n",
    "\n",
    "print(\"Parte a:\")\n",
    "print(\"  Suma de mayor a menor:\", suma_mayor_a_menor)\n",
    "print(\"  Suma de menor a mayor:\", suma_menor_a_mayor)\n"
   ]
  },
  {
   "cell_type": "code",
   "execution_count": 14,
   "id": "4580c359",
   "metadata": {},
   "outputs": [
    {
     "name": "stdout",
     "output_type": "stream",
     "text": [
      "  Suma de mayor a menor: 1.16\n",
      "  Suma de menor a mayor: 1.19\n"
     ]
    }
   ],
   "source": [
    "import math\n",
    "\n",
    "def truncar_significativas(x, cifras=3):\n",
    "    if x == 0:\n",
    "        return 0.0\n",
    "    else:\n",
    "        orden = int(math.floor(math.log10(abs(x))))\n",
    "        factor = 10**(cifras - 1 - orden)\n",
    "        return math.trunc(x * factor) / factor\n",
    "# De mayor a menor: i = 1 a 10\n",
    "suma_mayor_a_menor = 0.0\n",
    "for i in range(1, 11):\n",
    "    term= 1 / (i**3)\n",
    "    suma_mayor_a_menor = truncar_significativas(suma_mayor_a_menor + truncar_significativas(term))\n",
    "# De menor a mayor: i = 10 a 1\n",
    "suma_menor_a_mayor = 0.0\n",
    "for i in range(10, 0, -1):\n",
    "    term = 1 / (i**3)\n",
    "    suma_menor_a_mayor = truncar_significativas(suma_menor_a_mayor + truncar_significativas(term))  \n",
    "print(\"  Suma de mayor a menor:\", suma_mayor_a_menor)\n",
    "print(\"  Suma de menor a mayor:\", suma_menor_a_mayor)\n",
    "\n",
    "    "
   ]
  },
  {
   "cell_type": "markdown",
   "id": "9e5f66f8",
   "metadata": {},
   "source": [
    "### 1.3.2. Serie de Maclaurin para la función arcotangente\n",
    "\n",
    "La serie de Maclaurin para la función arcotangente converge para $-1 < x \\leq 1$ y está dada por:\n",
    "\n",
    "$$\n",
    "\\arctan(x) = \\lim_{n \\to \\infty} P_n(x) = \\lim_{n \\to \\infty} \\sum_{i=1}^{n} \\frac{(-1)^{i+1} x^{2i-1}}{2i-1}\n",
    "$$\n",
    "\n",
    "#### a. Determinación del número de términos para alcanzar una precisión\n",
    "\n",
    "Utilice el hecho de que $\\tan(\\pi/4) = 1$ para determinar el número $n$ de términos de la serie que se necesita sumar para garantizar que:\n",
    "\n",
    "$$\n",
    "|4P_n(1) - \\pi| < 10^{-3}\n",
    "$$ ."
   ]
  },
  {
   "cell_type": "code",
   "execution_count": 1,
   "id": "7f20a3a1",
   "metadata": {},
   "outputs": [
    {
     "name": "stdout",
     "output_type": "stream",
     "text": [
      "Número de términos necesarios para alcanzar la precisión de 10^-3: 1000\n"
     ]
    }
   ],
   "source": [
    "import math\n",
    "\n",
    "def maclaurin_arctan_approx(n):\n",
    "    return sum((-1)**(i + 1) / (2 * i - 1) for i in range(1, n + 1))\n",
    "\n",
    "n_terms = 0\n",
    "precision = 1e-3\n",
    "difference = 1\n",
    "\n",
    "while difference >= precision:\n",
    "    n_terms += 1\n",
    "    current_approximation = 4 * maclaurin_arctan_approx(n_terms)\n",
    "    difference = abs(current_approximation - math.pi)\n",
    "\n",
    "print(f\"Número de términos necesarios para alcanzar la precisión de 10^-3: {n_terms}\")"
   ]
  },
  {
   "cell_type": "markdown",
   "id": "c9593b48",
   "metadata": {},
   "source": [
    "##### b. El lenguaje de programación C++ requiere que el valor de $(\\pi)$ se encuentre dentro de $(10^{-6})$. ¿Cuántos términos de la serie se necesitarían sumar para obtener este grado de precisión?"
   ]
  },
  {
   "cell_type": "code",
   "execution_count": 3,
   "id": "6019a205",
   "metadata": {},
   "outputs": [
    {
     "name": "stdout",
     "output_type": "stream",
     "text": [
      "Número de términos necesarios para alcanzar la precisión de 10^-6:2000001 \n"
     ]
    }
   ],
   "source": [
    "import math\n",
    "\n",
    "def calcular_pi(precision_deseada):\n",
    "    tolerancia = 0.5 * 10 ** (-precision_deseada)\n",
    "    suma = 0.0\n",
    "    n = 0\n",
    "    signo = 1\n",
    "    while True:\n",
    "        termino = signo / (2 * n + 1)\n",
    "        suma += termino\n",
    "        aproximacion = 4 * suma\n",
    "        error = abs(aproximacion - math.pi)\n",
    "        if error < tolerancia:\n",
    "            break\n",
    "        signo *= -1\n",
    "        n += 1\n",
    "    return n + 1, aproximacion\n",
    "\n",
    "precision_deseada = 6\n",
    "n_terminos, aproximacion = calcular_pi(precision_deseada)\n",
    "print(f\"Número de términos necesarios para alcanzar la precisión de 10^-6:{n_terminos} \")\n"
   ]
  },
  {
   "cell_type": "markdown",
   "id": "51085982",
   "metadata": {},
   "source": [
    "### 3. Aproximación de $\\pi$ mediante otra identidad\n",
    "\n",
    "Otra fórmula para calcular $\\pi$ se puede deducir a partir de la siguiente identidad:\n",
    "\n",
    "$$\n",
    "\\frac{\\pi}{4} = 4\\arctan\\left(\\frac{1}{5}\\right) - \\arctan\\left(\\frac{1}{239}\\right)\n",
    "$$\n",
    "\n",
    "Determine el número de términos que se deben sumar para garantizar una aproximación de $\\pi$ con una precisión de $10^{-3}$."
   ]
  },
  {
   "cell_type": "code",
   "execution_count": 4,
   "id": "e392d30f",
   "metadata": {},
   "outputs": [
    {
     "name": "stdout",
     "output_type": "stream",
     "text": [
      "Número de términos necesarios para obtener precisión de 10^-3: 2\n"
     ]
    }
   ],
   "source": [
    "def maclaurin_arctan(x, terms):\n",
    "    return sum((-1)**i * (x**(2 * i + 1) / (2 * i + 1)) for i in range(terms))\n",
    "\n",
    "def calculate_pi_from_identity(terms):\n",
    "    return 4 * (4 * maclaurin_arctan(1 / 5, terms) - maclaurin_arctan(1 / 239, terms))\n",
    "\n",
    "precision_threshold = 1e-3\n",
    "terms_used = 0\n",
    "pi_approximation_error = 1\n",
    "\n",
    "# Cálculo iterativo\n",
    "while pi_approximation_error >= precision_threshold:\n",
    "    terms_used += 1\n",
    "    current_pi_value = calculate_pi_from_identity(terms_used)\n",
    "    pi_approximation_error = abs(current_pi_value - math.pi)\n",
    "\n",
    "print(f\"Número de términos necesarios para obtener precisión de 10^-3: {terms_used}\")"
   ]
  },
  {
   "cell_type": "markdown",
   "id": "70e60fbe",
   "metadata": {},
   "source": [
    "### 5. Complejidad de la suma doble\n",
    "\n",
    "#### a. Número de operaciones necesarias\n",
    "\n",
    "¿Cuántas multiplicaciones y sumas se requieren para determinar una suma de la forma:\n",
    "\n",
    "$$\n",
    "\\sum_{i=1}^{n} \\sum_{j=1}^{i} (a_i b_j)\n",
    "$$"
   ]
  },
  {
   "cell_type": "code",
   "execution_count": 5,
   "id": "76158ced",
   "metadata": {},
   "outputs": [
    {
     "name": "stdout",
     "output_type": "stream",
     "text": [
      "Para n=5, se realizan 15 multiplicaciones.\n"
     ]
    }
   ],
   "source": [
    "def count_multiplications(n):\n",
    "    total_multiplicaciones = 0\n",
    "    for i in range(1, n + 1):\n",
    "        total_multiplicaciones += i\n",
    "    return total_multiplicaciones\n",
    "\n",
    "n = 5\n",
    "multiplicaciones = count_multiplications(n)\n",
    "print(f\"Para n={n}, se realizan {multiplicaciones} multiplicaciones.\")"
   ]
  },
  {
   "cell_type": "markdown",
   "id": "e9218aaf",
   "metadata": {},
   "source": [
    "#### b. Modifique la suma en la parte a) a un formato equivalente que reduzca el número de cálculos. "
   ]
  },
  {
   "cell_type": "code",
   "execution_count": 6,
   "id": "be261974",
   "metadata": {},
   "outputs": [
    {
     "name": "stdout",
     "output_type": "stream",
     "text": [
      "Para n=5, se realizan 15 multiplicaciones y 10 sumas.\n"
     ]
    }
   ],
   "source": [
    "def count_operations(n):\n",
    "    total_sumas = 0\n",
    "    total_multiplicaciones = 0\n",
    "\n",
    "    for i in range(1, n + 1):\n",
    "        total_multiplicaciones += i\n",
    "        total_sumas += (i - 1)       \n",
    "\n",
    "    return total_multiplicaciones, total_sumas\n",
    "\n",
    "n = 5 \n",
    "multiplicaciones, sumas = count_operations(n)\n",
    "print(f\"Para n={n}, se realizan {multiplicaciones} multiplicaciones y {sumas} sumas.\")"
   ]
  },
  {
   "cell_type": "markdown",
   "id": "a36cb353",
   "metadata": {},
   "source": [
    "### 🧮 Escriba un algoritmo para sumar la serie finita:\n",
    "\n",
    "\n",
    "$$\n",
    "\\sum_{i=1}^{n} x_i\n",
    "$$\n",
    "\n",
    "pero **en orden inverso**, es decir, desde \\( x_n \\) hasta \\( x_1 \\).\n"
   ]
  },
  {
   "cell_type": "code",
   "execution_count": 1,
   "id": "f4f810d9",
   "metadata": {},
   "outputs": [
    {
     "name": "stdout",
     "output_type": "stream",
     "text": [
      "La suma en orden inverso es : 5\n",
      "La suma en orden inverso es : 9\n",
      "La suma en orden inverso es : 12\n",
      "La suma en orden inverso es : 14\n",
      "La suma en orden inverso es : 15\n"
     ]
    }
   ],
   "source": [
    "x=[1, 2, 3, 4, 5]\n",
    "suma=0\n",
    "for i in range (len(x)-1,-1,-1):\n",
    "    suma+=x[i]\n",
    "    print(\"La suma en orden inverso es :\",suma)"
   ]
  },
  {
   "cell_type": "markdown",
   "id": "5f0db3c6",
   "metadata": {},
   "source": [
    "### 𝑎𝑥2 + 𝑏𝑥 + 𝑐 = 0. Construya un algoritmo con entrada 𝑎, 𝑏, 𝑐 c y salida 𝑥1, 𝑥2 que calcule las raíces 𝑥1 y 𝑥2"
   ]
  },
  {
   "cell_type": "code",
   "execution_count": 3,
   "id": "65528a53",
   "metadata": {},
   "outputs": [
    {
     "name": "stdout",
     "output_type": "stream",
     "text": [
      "Las soluciones son: 5.0 y 1.0\n"
     ]
    }
   ],
   "source": [
    "import math\n",
    "a=float(input(\"Ingrese el valor de a: \"))\n",
    "b=float(input(\"Ingrese el valor de b: \"))       \n",
    "c=float(input(\"Ingrese el valor de c: \"))\n",
    "if a==0:\n",
    "    print(\"No es una ecuación cuadrática\")\n",
    "else:\n",
    "    D=b**2-4*a*c\n",
    "    if D<0:\n",
    "        print(\"No tiene solución real\")\n",
    "    elif D==0:\n",
    "        x=-b/(2*a)\n",
    "        print(\"La solución es:\",x)\n",
    "    else:\n",
    "        x1=(-b+math.sqrt(D))/(2*a)\n",
    "        x2=(-b-math.sqrt(D))/(2*a)\n",
    "        print(\"Las soluciones son:\",x1,\"y\",x2)"
   ]
  },
  {
   "cell_type": "markdown",
   "id": "bf0308f4",
   "metadata": {},
   "source": [
    "###  Escriba y ejecute un algoritmo que determine el número de términos necesarios en el lado izquierdo de la ecuación de tal forma que el lado izquierdo difiera del lado derecho en menos de 10−6\n",
    "."
   ]
  },
  {
   "cell_type": "code",
   "execution_count": 4,
   "id": "5f70b632",
   "metadata": {},
   "outputs": [
    {
     "name": "stdout",
     "output_type": "stream",
     "text": [
      "Número de términos necesarios: 4\n",
      "Suma parcial: 1.1428571279559818\n",
      "Valor lado derecho: 1.1428571428571428\n"
     ]
    }
   ],
   "source": [
    "x = 0.25\n",
    "tolerancia = 1e-6\n",
    "\n",
    "# Calcular lado derecho\n",
    "lado_derecho = (1 + 2*x) / (1 + x + x**2)\n",
    "\n",
    "suma = 0.0\n",
    "n = 1\n",
    "\n",
    "while abs(suma - lado_derecho) >= tolerancia:\n",
    "    a = 2**(n - 1) * x**(2**(n - 1) - 1)\n",
    "    b = 2**n * x**(2**n - 1)\n",
    "    numerador = a - b\n",
    "    denominador = 1 - x**(2**(n - 1)) + x**(2**n)\n",
    "    termino = numerador / denominador\n",
    "    \n",
    "    suma += termino\n",
    "    n += 1\n",
    "\n",
    "print(f\"Número de términos necesarios: {n - 1}\")\n",
    "print(f\"Suma parcial: {suma}\")\n",
    "print(f\"Valor lado derecho: {lado_derecho}\")\n"
   ]
  },
  {
   "cell_type": "markdown",
   "id": "cb6cd327",
   "metadata": {},
   "source": [
    "Link del repositorio : https://github.com/MatthewC-20/Deber2/blob/main/Deber2.ipynb\n"
   ]
  }
 ],
 "metadata": {
  "kernelspec": {
   "display_name": "Python 3",
   "language": "python",
   "name": "python3"
  },
  "language_info": {
   "codemirror_mode": {
    "name": "ipython",
    "version": 3
   },
   "file_extension": ".py",
   "mimetype": "text/x-python",
   "name": "python",
   "nbconvert_exporter": "python",
   "pygments_lexer": "ipython3",
   "version": "3.11.9"
  }
 },
 "nbformat": 4,
 "nbformat_minor": 5
}
