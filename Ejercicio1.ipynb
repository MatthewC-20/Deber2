{
 "cells": [
  {
   "cell_type": "code",
   "execution_count": null,
   "id": "9db5a533",
   "metadata": {},
   "outputs": [
    {
     "name": "stdout",
     "output_type": "stream",
     "text": [
      "Parte a:\n",
      "  Suma de mayor a menor: 1.53\n",
      "  Suma de menor a mayor: 1.54\n"
     ]
    }
   ],
   "source": [
    "import math\n",
    "\n",
    "def truncar_significativas(x, cifras=3):\n",
    "    if x == 0:\n",
    "        return 0.0\n",
    "    else:\n",
    "        orden = int(math.floor(math.log10(abs(x))))\n",
    "        factor = 10**(cifras - 1 - orden)\n",
    "        return math.trunc(x * factor) / factor\n",
    "\n",
    "\n",
    "# De mayor a menor: i = 1 a 10\n",
    "suma_mayor_a_menor = 0.0\n",
    "for i in range(1, 11):\n",
    "    term = 1 / (i**2)\n",
    "    suma_mayor_a_menor = truncar_significativas(suma_mayor_a_menor + truncar_significativas(term))\n",
    "\n",
    "# De menor a mayor: i = 10 a 1\n",
    "suma_menor_a_mayor = 0.0\n",
    "for i in range(10, 0, -1):\n",
    "    term = 1 / (i**2)\n",
    "    suma_menor_a_mayor = truncar_significativas(suma_menor_a_mayor + truncar_significativas(term))\n",
    "\n",
    "print(\"Parte a:\")\n",
    "print(\"  Suma de mayor a menor:\", suma_mayor_a_menor)\n",
    "print(\"  Suma de menor a mayor:\", suma_menor_a_mayor)\n"
   ]
  },
  {
   "cell_type": "code",
   "execution_count": 14,
   "id": "4580c359",
   "metadata": {},
   "outputs": [
    {
     "name": "stdout",
     "output_type": "stream",
     "text": [
      "  Suma de mayor a menor: 1.16\n",
      "  Suma de menor a mayor: 1.19\n"
     ]
    }
   ],
   "source": [
    "import math\n",
    "\n",
    "def truncar_significativas(x, cifras=3):\n",
    "    if x == 0:\n",
    "        return 0.0\n",
    "    else:\n",
    "        orden = int(math.floor(math.log10(abs(x))))\n",
    "        factor = 10**(cifras - 1 - orden)\n",
    "        return math.trunc(x * factor) / factor\n",
    "# De mayor a menor: i = 1 a 10\n",
    "suma_mayor_a_menor = 0.0\n",
    "for i in range(1, 11):\n",
    "    term= 1 / (i**3)\n",
    "    suma_mayor_a_menor = truncar_significativas(suma_mayor_a_menor + truncar_significativas(term))\n",
    "# De menor a mayor: i = 10 a 1\n",
    "suma_menor_a_mayor = 0.0\n",
    "for i in range(10, 0, -1):\n",
    "    term = 1 / (i**3)\n",
    "    suma_menor_a_mayor = truncar_significativas(suma_menor_a_mayor + truncar_significativas(term))  \n",
    "print(\"  Suma de mayor a menor:\", suma_mayor_a_menor)\n",
    "print(\"  Suma de menor a mayor:\", suma_menor_a_mayor)\n",
    "\n",
    "    "
   ]
  }
 ],
 "metadata": {
  "kernelspec": {
   "display_name": "Python 3",
   "language": "python",
   "name": "python3"
  },
  "language_info": {
   "codemirror_mode": {
    "name": "ipython",
    "version": 3
   },
   "file_extension": ".py",
   "mimetype": "text/x-python",
   "name": "python",
   "nbconvert_exporter": "python",
   "pygments_lexer": "ipython3",
   "version": "3.11.9"
  }
 },
 "nbformat": 4,
 "nbformat_minor": 5
}
